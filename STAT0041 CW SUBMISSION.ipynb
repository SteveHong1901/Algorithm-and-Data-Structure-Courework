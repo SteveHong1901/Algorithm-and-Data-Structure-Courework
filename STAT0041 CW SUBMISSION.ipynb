{
  "cells": [
    {
      "cell_type": "markdown",
      "source": [
        "# **STAT0041 Algorithms and Data Structures: ICA 2022**"
      ],
      "metadata": {
        "id": "FMGz_sgw5LDh"
      }
    },
    {
      "cell_type": "markdown",
      "source": [
        "## **Question 1: Sorting and Order Statistics**"
      ],
      "metadata": {
        "id": "YNhwYvClqOMi"
      }
    },
    {
      "cell_type": "code",
      "source": [
        "from statistics import median\n",
        "from tqdm import tqdm\n",
        "import numpy as np\n",
        "import time\n",
        "import matplotlib.pyplot as plt\n",
        "\n",
        "\n",
        "# DELIVERABLE 1\n",
        "\n",
        "def simulate_order_sort(m, n, p):\n",
        "    x = np.sort(np.random.normal(0, 1, size=(n)))\n",
        "    y = np.zeros(shape=(m))\n",
        "    for i in range(m):\n",
        "        y[i] = x[np.random.randint(low=0, high=n)] # low = inclusive, high = exclusive\n",
        "        if np.random.random() < p:\n",
        "            x = np.sort(np.random.normal(0, 1, size=(n)))\n",
        "    return y\n",
        "\n",
        "\n",
        "# DELIVERABLE 3\n",
        "\n",
        "def simulate_median_sort(m, n, p):\n",
        "    x = np.sort(np.random.normal(0, 1, size=(n)))\n",
        "    y = np.zeros(shape=(m))\n",
        "    for i in range(m):\n",
        "        y[i] = x[int(np.ceil(n/2))]\n",
        "        if np.random.random() < p:\n",
        "            x = np.sort(np.random.normal(0, 1, size=(n)))\n",
        "    return y\n",
        "\n",
        "def simulate_median(m, n, p):\n",
        "    x = np.random.normal(0, 1, size=(n))\n",
        "    y = np.zeros(shape=(m))\n",
        "    for i in range(m):\n",
        "        y[i] = np.median(x)\n",
        "        if np.random.random() < p:\n",
        "            x = np.sort(np.random.normal(0, 1, size=(n)))\n",
        "    return y\n",
        "  \n",
        "# DELIVERABLE 2 AND 3\n",
        "\n",
        "# Plotting and compare the wall-clock time for three functions\n",
        "\n",
        "step = 0.1\n",
        "p = [step * i for i in range(int(1/step))]\n",
        "order_sort_time = []\n",
        "median_sort_time = []\n",
        "median_time = []\n",
        "m = 10000\n",
        "n = 10000\n",
        "\n",
        "\n",
        "for i in tqdm(p):\n",
        "\n",
        "    # recording run time for simulate_order_sort\n",
        "    start_time = time.time()\n",
        "    simulate_order_sort(m, n, i)\n",
        "    order_sort_time.append(time.time() - start_time)\n",
        "    \n",
        "    # recording run time for simulate_median_sort\n",
        "    start_time = time.time()\n",
        "    simulate_median_sort(m, n, i)\n",
        "    median_sort_time.append(time.time() - start_time)\n",
        "\n",
        "    # recording run time for simulate_median\n",
        "    start_time = time.time()\n",
        "    simulate_median(m, n, i)\n",
        "    median_time.append(time.time() - start_time)\n",
        "\n",
        "# Adding details to the plot\n",
        "plt.xlabel('p')\n",
        "plt.ylabel('time')\n",
        "plt.scatter(p, order_sort_time, label='simulate_order_sort')\n",
        "plt.scatter(p, median_sort_time, label='simulate_median_sort')\n",
        "plt.scatter(p, median_time, label='simulate_median')\n",
        "plt.legend()\n",
        "plt.show()"
      ],
      "metadata": {
        "colab": {
          "base_uri": "https://localhost:8080/",
          "height": 297
        },
        "id": "iGMZnPYQqHop",
        "outputId": "64010750-0012-448f-a110-38b96a3a3d66"
      },
      "execution_count": null,
      "outputs": [
        {
          "output_type": "stream",
          "name": "stderr",
          "text": [
            "100%|██████████| 10/10 [02:15<00:00, 13.56s/it]\n"
          ]
        },
        {
          "output_type": "display_data",
          "data": {
            "text/plain": [
              "<Figure size 432x288 with 1 Axes>"
            ],
            "image/png": "[encoded data removed]"
          },
          "metadata": {
            "needs_background": "light"
          }
        }
      ]
    },
    {
      "cell_type": "markdown",
      "source": [
        "### Deliverable 2\n",
        "In the simulate_order_sort function, the data is re-sorted with probability p after each request for an order statistic. This means that for higher values of p, there is a higher probability that the data will be re-sorted more frequently, which increases the overall run time of the function. On the other hand, for lower values of p, the data is less likely to be re-sorted, which results in a lower overall run time for the function. This is why the variability in time increases as the value of p increases."
      ],
      "metadata": {
        "id": "YJHIIvEzM9RD"
      }
    },
    {
      "cell_type": "markdown",
      "source": [
        "### Deliverable 3\n",
        "\n",
        "My initial expections were as follow:\n",
        "\n",
        "The simulate_order_sort function is the slowest of the three functions because it needs to sort the data and draw a random integer o from 1 to n to determine the order statistic to be returned. Sorting the data is a computationally expensive operation, and drawing a random integer o from 1 to n adds additional computational overhead.\n",
        "\n",
        "The simulate_median_sort function is slightly faster than the simulate_order_sort function because it still needs to sort the data, but it does not need to draw a random integer o from 1 to n to determine the order statistic to be returned. Instead, it always sets o to n/2, which is the position of the median in the sorted array. This reduces the computational overhead compared to the simulate_order_sort function.\n",
        "\n",
        "The simulate_median function is the fastest of the three functions because it does not need to sort the data at all. Instead, it calculates the median using the built-in np.median function, which can calculate the median of an unsorted array. This can eliminate the need for sorting the data, which greatly reduces the computational overhead compared to the other two functions.\n",
        "\n",
        "After the empericial investigation, my expectation was only accurate for smaller values of m and n (at 100 and 1000), where the time difference is much clearer. The results of the plots are relatively inconsistent when run at n = 10000 and m = 10000, where it is fair to say that their performance is not vastly different from each other.\n"
      ],
      "metadata": {
        "id": "bK7A8ck5RMuh"
      }
    },
    {
      "cell_type": "markdown",
      "source": [
        "## **Question 2: Stretchable Array**"
      ],
      "metadata": {
        "id": "9ceroaHz8Mib"
      }
    },
    {
      "cell_type": "markdown",
      "metadata": {
        "id": "efvgSfUiz66N"
      },
      "source": [
        "### **Deliverable 1 and 3**"
      ]
    },
    {
      "cell_type": "code",
      "execution_count": null,
      "metadata": {
        "id": "Un1AHBhLq79F"
      },
      "outputs": [],
      "source": [
        "import ctypes\n",
        "import math\n",
        "import numpy as np\n",
        " \n",
        "class s_array:\n",
        "     \n",
        "    # DELIVERABLE 1\n",
        "\n",
        "    def __init__(self, capacity, length):\n",
        "\n",
        "        # create a stretchable array of capacity at least l with all entries initialized to 0\n",
        "        # the index starts at 0\n",
        "        self.x = self.s_array_create(capacity)\n",
        "        self.capacity = len(self.x)\n",
        "        self.length = 0\n",
        "\n",
        "\n",
        "    def s_array_create(self, l):\n",
        "\n",
        "        # create an array with the minimal waste requirement\n",
        "        min_length = math.ceil(np.log2(l))\n",
        "        newcap = [0]*(2**min_length)\n",
        "        return newcap\n",
        "\n",
        "    def s_array_set(self, i, value):\n",
        "\n",
        "        # set the i-th position of the stretchable array to value, index starts at 0\n",
        "        \n",
        "        # if the highest index is within the defined capacity then no need to update the capacity\n",
        "        if i <= self.capacity-1:\n",
        "          self.x[i] = value\n",
        "          self.length = i\n",
        "\n",
        "        # if the highest index is larger than the defined capacity then double the capacity\n",
        "        else:\n",
        "          new_data = self.s_array_create(2*len(self.x))\n",
        "\n",
        "        # transferring data from old array\n",
        "          for k in range(len(self.x)):\n",
        "            new_data[k] = self.s_array_get(k)\n",
        "\n",
        "        # update the attributes accordingly\n",
        "          self.length = i\n",
        "          self.capacity = len(new_data)\n",
        "          self.x = new_data\n",
        "          self.x[i] = value\n",
        "\n",
        "        return self.x\n",
        "\n",
        "        \n",
        "    def s_array_get(self, i):\n",
        "        # function to get the i-th element, index starts at 0\n",
        "        return self.x[i]\n",
        "     \n",
        "    def s_array_len(self):\n",
        "        # function to find the length of the array\n",
        "        return self.length\n",
        "\n",
        "    # DELIVERABLE 3\n",
        "\n",
        "    def find_max_nonzero(self):\n",
        "\n",
        "        # function for searching the highest index of the non-zero element\n",
        "        u = 0\n",
        "        for i in range(len(self.x)):\n",
        "          if self.x[i] != 0:\n",
        "            u = i\n",
        "        return u\n",
        "\n",
        "    def s_array_pack(self):\n",
        "\n",
        "        # find the index of the last non-zero element of x\n",
        "        last_non_zero_index = self.find_max_nonzero()\n",
        "\n",
        "        # find the minimal waste capacity, similar to that in Deliverable 1\n",
        "        best_capacity = 2 ** (math.ceil(np.log2(last_non_zero_index)))\n",
        "\n",
        "        # only update the minimal waste capacity is smaller than the current capacity\n",
        "        if best_capacity <= self.capacity:\n",
        "\n",
        "            # transfer data to the new array\n",
        "            new_data = [0] * best_capacity\n",
        "            for i in range(best_capacity):\n",
        "                new_data[i] = self.x[i]\n",
        "\n",
        "            # update the attributes accordingly\n",
        "            self.x = new_data\n",
        "            self.capacity = best_capacity\n",
        "\n",
        "            return self.x\n",
        "\n",
        "        # if minimal waste capacity is larger or equal to current capacity then no action is needed from this function\n",
        "        else:\n",
        "            return(\"Cannot be shrinked\")"
      ]
    },
    {
      "cell_type": "markdown",
      "metadata": {
        "id": "GmnyAm76XpMW"
      },
      "source": [
        "### **Deliverable 2**\n",
        "One benefit of this approach is that it can be useful for certain algorithms that specifically require this property. For example, some algorithms that use bitwise operations may perform better on arrays that have a capacity that is a power of 2.\n",
        "\n",
        "A potential drawback is that the capacity of the array tends to me much larger than the actual length of the data, which causes waste in memory. Also, if the array is frequently resized, it may be inefficient to always require moving large amounts of data each time the array is resized. \n",
        "\n",
        "One alternative is to use a linked list to store the data, where each node in it contains a single element of the data. An advantage is that it can be easily resized without the need to move large amounts of data. It can also be more efficient in terms of memory usage, as it only allocates memory for the nodes used, rather than pre-allocating a fixed-size array. However, accessing individual elements in the list may be slower than with an array, as it requires traversing the list to find the desired element, especially in algorithms that requires random access to data.\n"
      ]
    },
    {
      "cell_type": "markdown",
      "metadata": {
        "id": "u5tSd8AUxWxH"
      },
      "source": [
        "### **Deliverable 4**\n",
        "One potential criticism of the s_array_pack function is that it does not handle \"gaps\" in the data (i.e., if there are many zero elements between non-zero elements). This could be an area for improvement, given 0s are defined as being irrelevant and could be similarly reduced to save memory.\n",
        "\n",
        "A potential limitation of my implementation is that it uses a linear search to find the last non-zero element in x.data. This means that the running time of the function is proportional to the length of x.data, which can be inefficient for large arrays. A more efficient approach would be to use a binary search to find the last non-zero element, which would have a running time of O(log n) instead of O(n).\n",
        "\n"
      ]
    },
    {
      "cell_type": "markdown",
      "metadata": {
        "id": "6oXHDzWm0M1l"
      },
      "source": [
        "### **Deliverable 5**"
      ]
    },
    {
      "cell_type": "code",
      "execution_count": null,
      "metadata": {
        "colab": {
          "base_uri": "https://localhost:8080/"
        },
        "id": "Djd6E1TbO5fj",
        "outputId": "502aac51-c0f5-482d-ded7-cbd648e4c884"
      },
      "outputs": [
        {
          "output_type": "stream",
          "name": "stdout",
          "text": [
            "arr is defined as:  [0, 0, 0, 0, 0, 0, 0, 0]\n",
            "Minimal waste capacity of arr is:  8\n"
          ]
        }
      ],
      "source": [
        "# DELIVERABLE 5\n",
        "\n",
        "# creating a stretchable array called arr\n",
        "\n",
        "arr = s_array(6,0)\n",
        "print(\"arr is defined as: \",arr.x)\n",
        "print(\"Minimal waste capacity of arr is: \",arr.capacity)"
      ]
    },
    {
      "cell_type": "code",
      "execution_count": null,
      "metadata": {
        "colab": {
          "base_uri": "https://localhost:8080/"
        },
        "id": "fksHjO0uOumq",
        "outputId": "d889726f-1799-460a-82a0-ccee872f8d71"
      },
      "outputs": [
        {
          "output_type": "stream",
          "name": "stdout",
          "text": [
            "Set value 5 at index 5: [0, 0, 0, 0, 0, 5, 0, 0]\n",
            "It can be checked that the capacity has been defined as the special requirement, while the length of the array is the highest index that has been modified.\n",
            "Current Capacity of arr: 8\n",
            "Current length of arr: 5\n"
          ]
        }
      ],
      "source": [
        "# set a value within the capacity of arr\n",
        "\n",
        "print(\"Set value 5 at index 5:\", arr.s_array_set(5,5))\n",
        "print(\"It can be checked that the capacity has been defined as the special requirement, while the length of the array is the highest index that has been modified.\")\n",
        "print(\"Current Capacity of arr:\", arr.capacity)\n",
        "print(\"Current length of arr:\", arr.length)"
      ]
    },
    {
      "cell_type": "code",
      "execution_count": null,
      "metadata": {
        "colab": {
          "base_uri": "https://localhost:8080/"
        },
        "id": "eV-z-0zAr3y3",
        "outputId": "088c2e46-3212-4f69-93f9-d10159ff15d8"
      },
      "outputs": [
        {
          "output_type": "stream",
          "name": "stdout",
          "text": [
            "Set value 5 at index 15: [0, 0, 0, 0, 0, 5, 0, 0, 0, 0, 0, 0, 0, 0, 0, 5]\n",
            "It can be seen that the capacity automatically doubled for setting value above the initial capacity. The old data was transferred onto the new array.\n"
          ]
        }
      ],
      "source": [
        "# set a value within the capacity of arr\n",
        "\n",
        "print(\"Set value 5 at index 15:\", arr.s_array_set(15,5))\n",
        "print(\"It can be seen that the capacity automatically doubled for setting value above the initial capacity. The old data was transferred onto the new array.\")"
      ]
    },
    {
      "cell_type": "code",
      "execution_count": null,
      "metadata": {
        "colab": {
          "base_uri": "https://localhost:8080/"
        },
        "id": "1AI62ac22TMB",
        "outputId": "bf885042-6d1e-4b17-a424-5c8b3dcf93d8"
      },
      "outputs": [
        {
          "output_type": "stream",
          "name": "stdout",
          "text": [
            "Get value at index 15: 5\n"
          ]
        }
      ],
      "source": [
        "# get value at an index\n",
        "\n",
        "print(\"Get value at index 15:\", arr.s_array_get(15))"
      ]
    },
    {
      "cell_type": "code",
      "source": [
        "# test s_array_pack()\n",
        "\n",
        "print(\"To test s_array_pack, we can set the index-15th value of arr from 5 to 0, then apply the function to see if it is reduced to 8.\")\n",
        "print(\"Set value:\", arr.s_array_set(15,0))\n",
        "print(\"Apply s_array_pack:\", arr.s_array_pack())\n",
        "print(\"Check new capacity:\", arr.capacity)"
      ],
      "metadata": {
        "colab": {
          "base_uri": "https://localhost:8080/"
        },
        "id": "QFnDpiPZ53ok",
        "outputId": "52beb19c-8411-4c9a-d76d-d642995bdf36"
      },
      "execution_count": null,
      "outputs": [
        {
          "output_type": "stream",
          "name": "stdout",
          "text": [
            "To test s_array_pack, we can set the index-15th value of arr from 5 to 0, then apply the function to see if it is reduced to 8.\n",
            "Set value: [0, 0, 0, 0, 0, 5, 0, 0, 0, 0, 0, 0, 0, 0, 0, 0]\n",
            "Apply s_array_pack: [0, 0, 0, 0, 0, 5, 0, 0]\n",
            "Check new capacity: 8\n"
          ]
        }
      ]
    },
    {
      "cell_type": "markdown",
      "source": [
        "## **Question 3: DFS and BFS using iGraph**"
      ],
      "metadata": {
        "id": "V1KOn_xA_p1R"
      }
    },
    {
      "cell_type": "markdown",
      "source": [
        "### **Deliverable 1**"
      ],
      "metadata": {
        "id": "MujRbaJE373M"
      }
    },
    {
      "cell_type": "code",
      "source": [
        "pip install igraph statsmodels"
      ],
      "metadata": {
        "colab": {
          "base_uri": "https://localhost:8080/"
        },
        "id": "Qtk6Eisi-rxx",
        "outputId": "81907702-28af-4eef-8975-d3be2cdbdf90"
      },
      "execution_count": null,
      "outputs": [
        {
          "output_type": "stream",
          "name": "stdout",
          "text": [
            "Looking in indexes: https://pypi.org/simple, https://us-python.pkg.dev/colab-wheels/public/simple/\n",
            "Requirement already satisfied: igraph in /usr/local/lib/python3.8/dist-packages (0.10.2)\n",
            "Requirement already satisfied: statsmodels in /usr/local/lib/python3.8/dist-packages (0.12.2)\n",
            "Requirement already satisfied: texttable>=1.6.2 in /usr/local/lib/python3.8/dist-packages (from igraph) (1.6.7)\n",
            "Requirement already satisfied: scipy>=1.1 in /usr/local/lib/python3.8/dist-packages (from statsmodels) (1.7.3)\n",
            "Requirement already satisfied: numpy>=1.15 in /usr/local/lib/python3.8/dist-packages (from statsmodels) (1.21.6)\n",
            "Requirement already satisfied: pandas>=0.21 in /usr/local/lib/python3.8/dist-packages (from statsmodels) (1.3.5)\n",
            "Requirement already satisfied: patsy>=0.5 in /usr/local/lib/python3.8/dist-packages (from statsmodels) (0.5.3)\n",
            "Requirement already satisfied: pytz>=2017.3 in /usr/local/lib/python3.8/dist-packages (from pandas>=0.21->statsmodels) (2022.6)\n",
            "Requirement already satisfied: python-dateutil>=2.7.3 in /usr/local/lib/python3.8/dist-packages (from pandas>=0.21->statsmodels) (2.8.2)\n",
            "Requirement already satisfied: six in /usr/local/lib/python3.8/dist-packages (from patsy>=0.5->statsmodels) (1.15.0)\n"
          ]
        }
      ]
    },
    {
      "cell_type": "code",
      "source": [
        "import igraph\n",
        "import random\n",
        "import time\n",
        "\n",
        "def search_eval(m, n, p):\n",
        "    # Initialize a m x 2 matrix to store the wall-clock times\n",
        "    times = [[0, 0] for _ in range(m)]\n",
        "\n",
        "    # Iterate over the number of simulations\n",
        "    for i in range(m):\n",
        "        # Generate a random adjacency matrix for the graph\n",
        "        g = [[random.random() < p for _ in range(n)] for _ in range(n)]\n",
        "\n",
        "        # Choose a random source vertex for the search\n",
        "        source = random.randint(0, n - 1)\n",
        "\n",
        "        # Create an igraph graph from the adjacency matrix\n",
        "        graph = igraph.Graph.Adjacency(g)\n",
        "\n",
        "        # Record the start time for BFS\n",
        "        start_time = time.time()\n",
        "\n",
        "        # Run BFS on the graph\n",
        "        graph.bfs(source)\n",
        "\n",
        "        # Record the end time for BFS and store it in the matrix\n",
        "        end_time = time.time()\n",
        "        times[i][0] = end_time - start_time\n",
        "\n",
        "        # Record the start time for DFS\n",
        "        start_time = time.time()\n",
        "\n",
        "        # Run DFS on the graph\n",
        "        graph.dfs(source)\n",
        "        \n",
        "        # Record the end time for DFS and store it in the matrix\n",
        "        end_time = time.time()\n",
        "        times[i][1] = end_time - start_time\n",
        "\n",
        "    # Return the matrix of wall-clock times\n",
        "    return times\n",
        "\n"
      ],
      "metadata": {
        "id": "46oYxi5o_pMB"
      },
      "execution_count": null,
      "outputs": []
    },
    {
      "cell_type": "markdown",
      "source": [
        "### **Deliverable 2**"
      ],
      "metadata": {
        "id": "tAFfKdf9VLeZ"
      }
    },
    {
      "cell_type": "code",
      "source": [
        "import matplotlib.pyplot as plt\n",
        "from statsmodels.stats.weightstats import ztest\n",
        "\n",
        "\n",
        "# Set the number of simulations, number of vertices, and probabilities to test\n",
        "m = 1000\n",
        "n = 200\n",
        "probabilities = [0.01, 0.05, 0.1]\n",
        "\n",
        "# Initialize a list to store the p-values\n",
        "p_values = []\n",
        "\n",
        "# Iterate over the probabilities\n",
        "for p in probabilities:\n",
        "    # Run the search_eval function with the current probability\n",
        "    r = search_eval(m, n, p)\n",
        "\n",
        "    # Calculate the difference between the first and second columns of r\n",
        "    diff = [a - b for a, b in r]\n",
        "\n",
        "    # Perform a z-test on the differences to test the hypothesis that they come from a distribution with zero mean\n",
        "    z, pval = ztest(diff)\n",
        "\n",
        "    # Store the p-value\n",
        "    p_values.append(pval)\n",
        "\n",
        "# Print the p-values and conclusion for z-test\n",
        "\n",
        "print(\"List of calculated p-values:\",p_values)\n",
        "\n",
        "theshold = 0.05\n",
        "\n",
        "for i in range(len(p_values)):\n",
        "\n",
        "  if p_values[i] > 0.05:\n",
        "    print(\"Insufficient evidence to claim that the running time are different when prob =\", probabilities[i])\n",
        "    \n",
        "  elif p_values[i] < 0.05:\n",
        "    print(\"Sufficient evidence to claim that the running time are different when prob =\", probabilities[i])\n",
        "\n",
        "# Plot a scatterplot to show the differences\n",
        "\n",
        "bfs_ct = []\n",
        "dfs_ct = []\n",
        "for i in r:\n",
        "  bfs_ct.append(i[0])\n",
        "  dfs_ct.append(i[1])\n",
        "\n",
        "plt.scatter(bfs_ct, dfs_ct)\n",
        "plt.xlabel('BFS wall-clock times')\n",
        "plt.ylabel('DFS wall-clock times')\n",
        "plt.show()"
      ],
      "metadata": {
        "colab": {
          "base_uri": "https://localhost:8080/",
          "height": 352
        },
        "id": "tYT2MnggAfsn",
        "outputId": "9524209f-c46b-4fdd-b9c7-a97396ea08f0"
      },
      "execution_count": null,
      "outputs": [
        {
          "output_type": "stream",
          "name": "stdout",
          "text": [
            "List of calculated p-values: [3.0742028408521916e-189, 3.382128889757289e-106, 0.0]\n",
            "Sufficient evidence to claim that the running time are different when prob = 0.01\n",
            "Sufficient evidence to claim that the running time are different when prob = 0.05\n",
            "Sufficient evidence to claim that the running time are different when prob = 0.1\n"
          ]
        },
        {
          "output_type": "display_data",
          "data": {
            "text/plain": [
              "<Figure size 432x288 with 1 Axes>"
            ],
            "image/png": "[encoded data removed]"
          },
          "metadata": {
            "needs_background": "light"
          }
        }
      ]
    },
    {
      "cell_type": "markdown",
      "source": [
        "Given that most of the points are concentrated in the left corner of the scatterplot, and by looking at the scale, BFS is generally faster than DFS in this library. The z-tests on the difference between their run times are all significant for all values of p, which supports the conclusion."
      ],
      "metadata": {
        "id": "R8Zg5OGDhUa_"
      }
    },
    {
      "cell_type": "markdown",
      "source": [
        "### **Deliverable 3**"
      ],
      "metadata": {
        "id": "xMsCV3BJ4atj"
      }
    },
    {
      "cell_type": "markdown",
      "source": [
        "#### Code for depth_charge"
      ],
      "metadata": {
        "id": "u1tBpTYgs1I3"
      }
    },
    {
      "cell_type": "code",
      "source": [
        "import igraph\n",
        "import random\n",
        "\n",
        "def depth_charge(m, w, d):\n",
        "    # Initialize a m x 2 matrix to store the search steps\n",
        "    steps = [[0, 0] for _ in range(m)]\n",
        "\n",
        "    # Iterate over the number of simulations\n",
        "    for i in range(m):\n",
        "\n",
        "        # Create a directed graph with a root vertex and w children\n",
        "        g = [[0, j] for j in range(1, w + 1)]\n",
        "\n",
        "        # Choose a random child to start a chain\n",
        "        v = random.randint(1, w)\n",
        "\n",
        "        # Add the chain to the graph\n",
        "        g += [(v, j) for j in range(w + 1, w + d + 1)]\n",
        "\n",
        "        # Create an igraph graph from the edge list\n",
        "        graph = igraph.Graph.TupleList(g, directed=True)\n",
        "\n",
        "        # Run BFS on the graph\n",
        "        order = graph.bfs(0)\n",
        "\n",
        "        # Store the number of search steps for BFS\n",
        "        steps[i][0] = order[0].index(w + d) + 1\n",
        "\n",
        "        # Run DFS on the graph\n",
        "        order = graph.dfs(0)\n",
        "\n",
        "        # Store the number of search steps for DFS\n",
        "        steps[i][1] = order[0].index(w + d) + 1\n",
        "\n",
        "    # Return the matrix of search steps\n",
        "    return steps\n",
        "  "
      ],
      "metadata": {
        "id": "La0J2D3iGnvU"
      },
      "execution_count": null,
      "outputs": []
    },
    {
      "cell_type": "code",
      "source": [
        "import matplotlib.pyplot as plt\n",
        "\n",
        "# Set the number of simulations, number of children, and chain length\n",
        "m = 1000\n",
        "w = 100\n",
        "d = 100\n",
        "\n",
        "# Run the depth_charge function with the given parameters\n",
        "r = depth_charge(m, w, d)\n",
        "\n",
        "# Plot a histogram of the first column\n",
        "plt.hist([m[0] for m in r])\n",
        "plt.xlabel('BFS number of search steps')\n",
        "plt.ylabel('Frequency')\n",
        "plt.show()\n",
        "\n",
        "# Plot a histogram of the second column\n",
        "plt.hist([m[1] for m in r])\n",
        "plt.xlabel('DFS number of search steps')\n",
        "plt.ylabel('Frequency')\n",
        "plt.show()"
      ],
      "metadata": {
        "id": "Pe3-IahYVct8",
        "colab": {
          "base_uri": "https://localhost:8080/",
          "height": 541
        },
        "outputId": "1b96e504-1ffe-4ed0-b93c-09a367fd3967"
      },
      "execution_count": null,
      "outputs": [
        {
          "output_type": "display_data",
          "data": {
            "text/plain": [
              "<Figure size 432x288 with 1 Axes>"
            ],
            "image/png": "[encoded data removed]"
          },
          "metadata": {
            "needs_background": "light"
          }
        },
        {
          "output_type": "display_data",
          "data": {
            "text/plain": [
              "<Figure size 432x288 with 1 Axes>"
            ],
            "image/png": "[encoded data removed]"
          },
          "metadata": {
            "needs_background": "light"
          }
        }
      ]
    },
    {
      "cell_type": "markdown",
      "source": [
        "#### Code for depth_charge_1"
      ],
      "metadata": {
        "id": "ASAB5VVgs6WP"
      }
    },
    {
      "cell_type": "code",
      "source": [
        "def depth_charge_1(m, w, d):\n",
        "    # Initialize a m x 2 matrix to store the search steps\n",
        "    steps = [[0, 0] for _ in range(m)]\n",
        "\n",
        "    # Iterate over the number of simulations\n",
        "    for i in range(m):\n",
        "\n",
        "        # Create a directed graph with a root vertex and w children\n",
        "        g = [[0, j] for j in range(1, w + 1)]\n",
        "\n",
        "        # Choose the first child to start a chain\n",
        "        v = 1\n",
        "\n",
        "        # Add the chain to the graph\n",
        "        g += [(v, j) for j in range(w + 1, w + d + 1)]\n",
        "\n",
        "        # Create an igraph graph from the edge list\n",
        "        graph = igraph.Graph.TupleList(g, directed=True)\n",
        "\n",
        "        # Run BFS on the graph\n",
        "        order = graph.bfs(0)\n",
        "\n",
        "        # Store the number of search steps for BFS\n",
        "        steps[i][0] = order[0].index(w + d) + 1\n",
        "\n",
        "        # Run DFS on the graph\n",
        "        order = graph.dfs(0)\n",
        "\n",
        "        # Store the number of search steps for DFS\n",
        "        steps[i][1] = order[0].index(w + d) + 1\n",
        "\n",
        "    # Return the matrix of search steps\n",
        "    return steps\n",
        "  \n",
        "# Set the number of simulations, number of children, and chain length\n",
        "m = 1000\n",
        "w = 100\n",
        "d = 100\n",
        "\n",
        "# Run the depth_charge_1 function with the given parameters\n",
        "r = depth_charge_1(m, w, d)\n",
        "\n",
        "# Plot a histogram of the first column\n",
        "plt.hist([m[0] for m in r])\n",
        "plt.xlabel('BFS number of search steps')\n",
        "plt.ylabel('Frequency')\n",
        "plt.show()\n",
        "\n",
        "# Plot a histogram of the second column\n",
        "plt.hist([m[1] for m in r])\n",
        "plt.xlabel('DFS number of search steps')\n",
        "plt.ylabel('Frequency')\n",
        "plt.show()"
      ],
      "metadata": {
        "colab": {
          "base_uri": "https://localhost:8080/",
          "height": 541
        },
        "id": "3l5sRhPwoQxp",
        "outputId": "8e084870-5e0a-4829-ea25-9125dbdf9803"
      },
      "execution_count": null,
      "outputs": [
        {
          "output_type": "display_data",
          "data": {
            "text/plain": [
              "<Figure size 432x288 with 1 Axes>"
            ],
            "image/png": "[encoded data removed]"
          },
          "metadata": {
            "needs_background": "light"
          }
        },
        {
          "output_type": "display_data",
          "data": {
            "text/plain": [
              "<Figure size 432x288 with 1 Axes>"
            ],
            "image/png": "[encoded data removed]"
          },
          "metadata": {
            "needs_background": "light"
          }
        }
      ]
    },
    {
      "cell_type": "markdown",
      "source": [
        "#### Code for depth_charge_final"
      ],
      "metadata": {
        "id": "YJEfjkV2s9Jj"
      }
    },
    {
      "cell_type": "code",
      "source": [
        "def depth_charge_final(m, w, d):\n",
        "    # Initialize a m x 2 matrix to store the search steps\n",
        "    steps = [[0, 0] for _ in range(m)]\n",
        "\n",
        "    # Iterate over the number of simulations\n",
        "    for i in range(m):\n",
        "\n",
        "        # Create a directed graph with a root vertex and w children\n",
        "        g = [[0, j] for j in range(1, w + 1)]\n",
        "\n",
        "        # Choose the w child to start a chain\n",
        "        v = w\n",
        "\n",
        "        # Add the chain to the graph\n",
        "        g += [(v, j) for j in range(w + 1, w + d + 1)]\n",
        "\n",
        "        # Create an igraph graph from the edge list\n",
        "        graph = igraph.Graph.TupleList(g, directed=True)\n",
        "\n",
        "        # Run BFS on the graph\n",
        "        order = graph.bfs(0)\n",
        "\n",
        "        # Store the number of search steps for BFS\n",
        "        steps[i][0] = order[0].index(w + d) + 1\n",
        "\n",
        "        # Run DFS on the graph\n",
        "        order = graph.dfs(0)\n",
        "\n",
        "        # Store the number of search steps for DFS\n",
        "        steps[i][1] = order[0].index(w + d) + 1\n",
        "\n",
        "    # Return the matrix of search steps\n",
        "    return steps\n",
        "\n",
        "# Set the number of simulations, number of children, and chain length\n",
        "m = 1000\n",
        "w = 100\n",
        "d = 100\n",
        "\n",
        "# Run the depth_charge_final function with the given parameters\n",
        "r = depth_charge_final(m, w, d)\n",
        "\n",
        "# Plot a histogram of the first column\n",
        "plt.hist([m[0] for m in r])\n",
        "plt.xlabel('BFS number of search steps')\n",
        "plt.ylabel('Frequency')\n",
        "plt.show()\n",
        "\n",
        "# Plot a histogram of the second column\n",
        "plt.hist([m[1] for m in r])\n",
        "plt.xlabel('DFS number of search steps')\n",
        "plt.ylabel('Frequency')\n",
        "plt.show()\n",
        "  "
      ],
      "metadata": {
        "colab": {
          "base_uri": "https://localhost:8080/",
          "height": 541
        },
        "id": "VgA_oX2ZsJlP",
        "outputId": "8c55455b-7e38-483d-b2cc-0b27f99e5b17"
      },
      "execution_count": null,
      "outputs": [
        {
          "output_type": "display_data",
          "data": {
            "text/plain": [
              "<Figure size 432x288 with 1 Axes>"
            ],
            "image/png": "[encoded data removed]"
          },
          "metadata": {
            "needs_background": "light"
          }
        },
        {
          "output_type": "display_data",
          "data": {
            "text/plain": [
              "<Figure size 432x288 with 1 Axes>"
            ],
            "image/png": "[encoded data removed]"
          },
          "metadata": {
            "needs_background": "light"
          }
        }
      ]
    },
    {
      "cell_type": "markdown",
      "source": [
        "The observations from the histogram of depth_charge_1 support the conjecture from the ICA, where DFS takes roughly 102 (~100+1) steps compared to BFS at 201 (100+100). DFS is thus much more efficient than BFS in the case of dapth_charge_1.\n",
        "\n",
        "In the case of depth_charge_final, the difference is even more observable when DFS only took 3 steps in the same context. "
      ],
      "metadata": {
        "id": "9lCj_2QLtRPf"
      }
    }
  ],
  "metadata": {
    "colab": {
      "provenance": []
    },
    "kernelspec": {
      "display_name": "Python 3",
      "name": "python3"
    },
    "language_info": {
      "name": "python"
    }
  },
  "nbformat": 4,
  "nbformat_minor": 0
}